{
  "nbformat": 4,
  "nbformat_minor": 0,
  "metadata": {
    "colab": {
      "name": "EXAM.ipynb",
      "provenance": [],
      "collapsed_sections": [
        "AqPgW0q_W8ZY",
        "6B3rbBbQdSWQ"
      ],
      "authorship_tag": "ABX9TyPu9EAAc2dhFkyfDCC+VshG",
      "include_colab_link": true
    },
    "kernelspec": {
      "name": "python3",
      "display_name": "Python 3"
    }
  },
  "cells": [
    {
      "cell_type": "markdown",
      "metadata": {
        "id": "view-in-github",
        "colab_type": "text"
      },
      "source": [
        "<a href=\"https://colab.research.google.com/github/Zetech21/Coursera_Capstone/blob/master/EXAM.ipynb\" target=\"_parent\"><img src=\"https://colab.research.google.com/assets/colab-badge.svg\" alt=\"Open In Colab\"/></a>"
      ]
    },
    {
      "cell_type": "markdown",
      "metadata": {
        "id": "AqPgW0q_W8ZY"
      },
      "source": [
        "##Write a python program for random numbers\r\n",
        "##if lower send response to guess a higher number\r\n",
        "##if Higher send response to guess a lower number\r\n",
        "##if Correct show number of guesses it took"
      ]
    },
    {
      "cell_type": "code",
      "metadata": {
        "id": "HeEb9KenNBq2",
        "colab": {
          "base_uri": "https://localhost:8080/"
        },
        "outputId": "9159ad91-d62d-4b58-95b1-44ec02e7db4e"
      },
      "source": [
        "import pandas as pd\r\n",
        "import numpy as np\r\n",
        "A = int(np.random.randint(1,25))\r\n",
        "i = int(input(\"Input your Guess for the random number: \"))\r\n",
        "guesses = 0\r\n",
        "guesses_allowed = 10\r\n",
        "while guesses < guesses_allowed:\r\n",
        "  guesses+=1\r\n",
        "  if i == A:\r\n",
        "    print(\"\")\r\n",
        "    print(f\"Your Guess of {i} is correct\")\r\n",
        "    print(\"\")\r\n",
        "    print(f\"it took you {guesses} guesses to get it correctly\")\r\n",
        "    break\r\n",
        "  elif i > A:\r\n",
        "    i = int(input(\"Please Guess a lower number: \"))\r\n",
        "  elif i < A:\r\n",
        "    i = int(input(\"Please Guess a higher number: \"))"
      ],
      "execution_count": null,
      "outputs": [
        {
          "output_type": "stream",
          "text": [
            "Input your Guess for the random number: 10\n",
            "Please Guess a higher number: 20\n",
            "Please Guess a lower number: 18\n",
            "Please Guess a lower number: 17\n",
            "Please Guess a lower number: 15\n",
            "\n",
            "Your Guess of 15 is correct\n",
            "\n",
            "it took you 5 guesses to get it correctly\n"
          ],
          "name": "stdout"
        }
      ]
    },
    {
      "cell_type": "code",
      "metadata": {
        "id": "LJPfnz3gyr2d"
      },
      "source": [
        ""
      ],
      "execution_count": null,
      "outputs": []
    },
    {
      "cell_type": "markdown",
      "metadata": {
        "id": "6B3rbBbQdSWQ"
      },
      "source": [
        "##Question 2\r\n"
      ]
    },
    {
      "cell_type": "code",
      "metadata": {
        "id": "X5YD06NwdVY9"
      },
      "source": [
        "#READ the CSV file\r\n",
        "import pandas as pd\r\n",
        "df = pd.read_csv(\"Data.csv\")\r\n"
      ],
      "execution_count": null,
      "outputs": []
    },
    {
      "cell_type": "code",
      "metadata": {
        "id": "kj1Bf9end5yk"
      },
      "source": [
        "##Mean of Feature \r\n",
        "Mean_X = df[\"X\"].mean\r\n",
        "Mean_Y = df[\"Y\"].mean\r\n",
        "Mean_month = df[\"Month\"].mean\r\n",
        "mean_day = df[\"day\"].mean\r\n",
        "mean_ffmc = df[\"FFMC\"].mean\r\n",
        "mean_dmc = df[\"DMC\"].mean\r\n",
        "mean_dc =df[\"DC\"].mean\r\n",
        "mean_isi = df[\"ISI\"].mean\r\n",
        "mean_temp = df[\"temp\"].mean\r\n",
        "mean_rh = df[\"RH\"].mean\r\n",
        "mean_wind = df[\"wind\"].mean\r\n",
        "mean_rain = df[\"rain\"].mean"
      ],
      "execution_count": null,
      "outputs": []
    },
    {
      "cell_type": "code",
      "metadata": {
        "id": "vPL61olzhnc5"
      },
      "source": [
        "#Median of Feature\r\n",
        "Median_X = df[\"X\"].median\r\n",
        "Median_Y = df[\"Y\"].median\r\n",
        "Median_month = df[\"Month\"].median\r\n",
        "Median_day = df[\"day\"].median\r\n",
        "Median_ffmc = df[\"FFMC\"].median\r\n",
        "Median_dmc = df[\"DMC\"].median\r\n",
        "Median_dc =df[\"DC\"].median\r\n",
        "Median_isi = df[\"ISI\"].median\r\n",
        "Median_temp = df[\"temp\"].median\r\n",
        "Median_rh = df[\"RH\"].median\r\n",
        "Median_wind = df[\"wind\"].median\r\n",
        "Median_rain = df[\"rain\"].median"
      ],
      "execution_count": null,
      "outputs": []
    },
    {
      "cell_type": "code",
      "metadata": {
        "id": "hSmXuNsDiISc"
      },
      "source": [
        "#Mode of Feature\r\n"
      ],
      "execution_count": null,
      "outputs": []
    },
    {
      "cell_type": "markdown",
      "metadata": {
        "id": "oIEfOGgdjLJ2"
      },
      "source": [
        "##OOP library and Student"
      ]
    },
    {
      "cell_type": "code",
      "metadata": {
        "id": "e7zEPVvMjOqd"
      },
      "source": [
        "def Library_DBS():\r\n",
        "  class Library():\r\n",
        "    def __init__(self,Book_id,Book,Status=\"Available\",Student_id = 0):\r\n",
        "      self.bookid = Book_id\r\n",
        "      self.Book  = Book\r\n",
        "      self.status = Status\r\n",
        "      self.studentid = Student_id\r\n",
        "  class Student():\r\n",
        "    def __init__(self,Student_id,Student_name,Book_borrowed=0):\r\n",
        "      self.student= Student_id\r\n",
        "      self.student_name = Student_name\r\n",
        "      self.BBorrowed = Book.borrowed\r\n",
        "  OOP = Library(\"001\",\"OBJECT ORIENTED PROOGRAMING\")\r\n",
        "  PYTHON = Library(\"002\",\"Intoduction to python\")\r\n",
        "  selection = 0\r\n",
        "  while selection != 4:\r\n",
        "    print(\"############################################\")\r\n",
        "    print(\"Welcome to DBS library\")\r\n",
        "    print(\"############################################\")\r\n",
        "    print(\"1. Book Status \\n2. Borrow books \\n3. Return books \\n4. Exit.\")\r\n",
        "    selection = int(input(\"\"))\r\n",
        "    if selection == 1:\r\n",
        "      print(\"Please enter name of book: \")\r\n",
        "      a = input()\r\n",
        "      print(a.bookid)\r\n",
        "      try:\r\n",
        "        a.bookid\r\n",
        "        a.status\r\n",
        "        a.book\r\n",
        "      except:\r\n",
        "        print(\"Book is not Available in the library\")\r\n",
        "    if selection == 2:\r\n",
        "      print(\"Please enter name of book: \")\r\n",
        "      a = input(\"\")\r\n",
        "      try:\r\n",
        "        if a.status == \"Available\":\r\n",
        "          id = int(\"Input your studentid: \")\r\n",
        "          name = int(\"input your name: \")\r\n",
        "          name.Student(id,name,a.Book_id)\r\n",
        "          a.status = \"Not Available\"\r\n",
        "        else:\r\n",
        "          print(\"Book is Unvailable\")\r\n",
        "      except:\r\n",
        "        print(\"Book is not Available in the library\")\r\n",
        "     if selection == 3:\r\n",
        "      print(\"Please enter name of book: \")\r\n",
        "      a = input(\"\")\r\n",
        "      name = int(\"input your name: \")\r\n",
        "      try:\r\n",
        "        if name.Book_id != 0:\r\n",
        "          name.BBorrowed= 0\r\n",
        "          a.status = \"Available\"\r\n",
        "        else:\r\n",
        "          print(\"No Book Borrowed\")\r\n",
        "      except:\r\n",
        "        print(\"Book is not Available in the library\")"
      ],
      "execution_count": null,
      "outputs": []
    },
    {
      "cell_type": "code",
      "metadata": {
        "colab": {
          "base_uri": "https://localhost:8080/"
        },
        "id": "nlyJoCKWkXbl",
        "outputId": "605e0e52-69d1-4c8a-8af4-204173c05945"
      },
      "source": [
        "Library_DBS()"
      ],
      "execution_count": null,
      "outputs": [
        {
          "output_type": "stream",
          "text": [
            "############################################\n",
            "Welcome to DBS library\n",
            "############################################\n",
            "1. Book Status \n",
            "2. Borrow books \n",
            "3. Exit.\n",
            "3\n"
          ],
          "name": "stdout"
        }
      ]
    }
  ]
}